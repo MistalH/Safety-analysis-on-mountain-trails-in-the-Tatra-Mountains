{
 "cells": [
  {
   "cell_type": "code",
   "execution_count": 6,
   "id": "11a1cfa3-4d02-4cfd-8992-1d9e1ea6cd56",
   "metadata": {},
   "outputs": [
    {
     "name": "stdout",
     "output_type": "stream",
     "text": [
      "Połączono 152 plików z podfolderów w jeden: C:\\Users\\micha\\Desktop\\DaneOpadów\\combined_data.csv\n"
     ]
    }
   ],
   "source": [
    "import os\n",
    "import pandas as pd\n",
    "\n",
    "# Ścieżka głównego folderu, w którym znajdują się podfoldery z plikami CSV\n",
    "main_folder_path = \"C:\\\\Users\\\\micha\\\\Desktop\\\\DAneOpadów\"  # Zmień na swoją ścieżkę\n",
    "\n",
    "# Lista wszystkich plików CSV w podfolderach\n",
    "csv_files = []\n",
    "for root, dirs, files in os.walk(main_folder_path):\n",
    "    for file in files:\n",
    "        if file.endswith('.csv'):\n",
    "            csv_files.append(os.path.join(root, file))\n",
    "\n",
    "# Tworzenie pustej listy, aby przechować dane z każdego pliku\n",
    "dataframes = []\n",
    "\n",
    "# Wczytywanie danych z każdego pliku CSV i dodawanie ich do listy\n",
    "for file in csv_files:\n",
    "    df = pd.read_csv(file)\n",
    "    dataframes.append(df)\n",
    "\n",
    "# Łączenie wszystkich DataFrames w jeden, jeden pod drugim\n",
    "combined_df = pd.concat(dataframes, ignore_index=True)\n",
    "\n",
    "# Zapisanie wynikowego DataFrame do jednego pliku CSV\n",
    "output_file = \"C:\\\\Users\\\\micha\\\\Desktop\\\\DaneOpadów\\\\combined_data.csv\"  # Ścieżka do wynikowego pliku\n",
    "combined_df.to_csv(output_file, index=False, encoding='utf-8-sig')\n",
    "\n",
    "print(f\"Połączono {len(csv_files)} plików z podfolderów w jeden: {output_file}\")\n"
   ]
  },
  {
   "cell_type": "code",
   "execution_count": 7,
   "id": "ccdfde6c-9997-46f6-b828-4b155c726bab",
   "metadata": {},
   "outputs": [
    {
     "name": "stdout",
     "output_type": "stream",
     "text": [
      "Połączono 156 plików z podfolderów w jeden: C:\\Users\\micha\\Desktop\\Wiatr\\combined_data.csv\n"
     ]
    }
   ],
   "source": [
    "import os\n",
    "import pandas as pd\n",
    "\n",
    "# Ścieżka głównego folderu, w którym znajdują się podfoldery z plikami CSV\n",
    "main_folder_path = \"C:\\\\Users\\\\micha\\\\Desktop\\\\Wiatr\"  # Zmień na swoją ścieżkę\n",
    "\n",
    "# Lista wszystkich plików CSV w podfolderach\n",
    "csv_files = []\n",
    "for root, dirs, files in os.walk(main_folder_path):\n",
    "    for file in files:\n",
    "        if file.endswith('.csv'):\n",
    "            csv_files.append(os.path.join(root, file))\n",
    "\n",
    "# Tworzenie pustej listy, aby przechować dane z każdego pliku\n",
    "dataframes = []\n",
    "\n",
    "# Wczytywanie danych z każdego pliku CSV i dodawanie ich do listy\n",
    "for file in csv_files:\n",
    "    df = pd.read_csv(file)\n",
    "    dataframes.append(df)\n",
    "\n",
    "# Łączenie wszystkich DataFrames w jeden, jeden pod drugim\n",
    "combined_df = pd.concat(dataframes, ignore_index=True)\n",
    "\n",
    "# Zapisanie wynikowego DataFrame do jednego pliku CSV\n",
    "output_file = \"C:\\\\Users\\\\micha\\\\Desktop\\\\Wiatr\\\\combined_data.csv\"  # Ścieżka do wynikowego pliku\n",
    "combined_df.to_csv(output_file, index=False, encoding='utf-8-sig')\n",
    "\n",
    "print(f\"Połączono {len(csv_files)} plików z podfolderów w jeden: {output_file}\")\n"
   ]
  },
  {
   "cell_type": "code",
   "execution_count": 5,
   "id": "76b933e8-47c5-4b09-ae39-1618024aa294",
   "metadata": {},
   "outputs": [
    {
     "name": "stdout",
     "output_type": "stream",
     "text": [
      "Połączono 154 plików z podfolderów w jeden: C:\\Users\\micha\\Desktop\\Tempertatura\\combined_data.csv\n"
     ]
    }
   ],
   "source": [
    "import os\n",
    "import pandas as pd\n",
    "\n",
    "# Ścieżka głównego folderu, w którym znajdują się podfoldery z plikami CSV\n",
    "main_folder_path = \"C:\\\\Users\\\\micha\\\\Desktop\\\\Tempertatura\"  # Zmień na swoją ścieżkę\n",
    "\n",
    "# Lista wszystkich plików CSV w podfolderach\n",
    "csv_files = []\n",
    "for root, dirs, files in os.walk(main_folder_path):\n",
    "    for file in files:\n",
    "        if file.endswith('.csv'):\n",
    "            csv_files.append(os.path.join(root, file))\n",
    "\n",
    "# Tworzenie pustej listy, aby przechować dane z każdego pliku\n",
    "dataframes = []\n",
    "\n",
    "# Wczytywanie danych z każdego pliku CSV i dodawanie ich do listy\n",
    "for file in csv_files:\n",
    "    df = pd.read_csv(file)\n",
    "    dataframes.append(df)\n",
    "\n",
    "# Łączenie wszystkich DataFrames w jeden, jeden pod drugim\n",
    "combined_df = pd.concat(dataframes, ignore_index=True)\n",
    "\n",
    "# Zapisanie wynikowego DataFrame do jednego pliku CSV\n",
    "output_file = \"C:\\\\Users\\\\micha\\\\Desktop\\\\Tempertatura\\\\combined_data.csv\"  # Ścieżka do wynikowego pliku\n",
    "combined_df.to_csv(output_file, index=False, encoding='utf-8-sig')\n",
    "\n",
    "print(f\"Połączono {len(csv_files)} plików z podfolderów w jeden: {output_file}\")\n"
   ]
  },
  {
   "cell_type": "code",
   "execution_count": null,
   "id": "018fa739-425e-434e-a7df-43d2f6891b0f",
   "metadata": {},
   "outputs": [],
   "source": []
  }
 ],
 "metadata": {
  "kernelspec": {
   "display_name": "Python 3 (ipykernel)",
   "language": "python",
   "name": "python3"
  },
  "language_info": {
   "codemirror_mode": {
    "name": "ipython",
    "version": 3
   },
   "file_extension": ".py",
   "mimetype": "text/x-python",
   "name": "python",
   "nbconvert_exporter": "python",
   "pygments_lexer": "ipython3",
   "version": "3.13.0"
  }
 },
 "nbformat": 4,
 "nbformat_minor": 5
}
