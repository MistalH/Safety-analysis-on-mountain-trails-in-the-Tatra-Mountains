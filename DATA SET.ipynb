{
 "cells": [
  {
   "cell_type": "code",
   "execution_count": 1,
   "id": "099eafab-ca9d-4897-8249-764f4287a30e",
   "metadata": {},
   "outputs": [
    {
     "name": "stdout",
     "output_type": "stream",
     "text": [
      "    category  Opady w mm\n",
      "0  1.12.2012        2.54\n",
      "1  2.12.2012        0.25\n",
      "2  3.12.2012        0.00\n",
      "3  4.12.2012        2.79\n",
      "4  5.12.2012        0.00\n",
      "    category  Wiatr w m/s\n",
      "0  1.12.2012          1.1\n",
      "1  2.12.2012          0.7\n",
      "2  3.12.2012          1.8\n",
      "3  4.12.2012          0.8\n",
      "4  5.12.2012          1.2\n",
      "   category  minimum  maximum\n",
      "0  1.1.2012      -10      2.7\n",
      "1  1.1.2013       -6      4.2\n",
      "2  1.1.2014       -6      0.1\n",
      "3  1.1.2015       -3      0.9\n",
      "4  1.1.2016      -14     -5.1\n"
     ]
    }
   ],
   "source": [
    "import pandas as pd\n",
    "\n",
    "# Sprawdź pierwszy wiersz pliku opady.csv\n",
    "opady_df = pd.read_csv('opady.csv')\n",
    "print(opady_df.head())\n",
    "\n",
    "# Sprawdź pierwszy wiersz pliku wiatr.csv\n",
    "wiatr_df = pd.read_csv('wiatr.csv')\n",
    "print(wiatr_df.head())\n",
    "\n",
    "# Sprawdź pierwszy wiersz pliku temperatura.csv\n",
    "temperatura_df = pd.read_csv('temperatura.csv')\n",
    "print(temperatura_df.head())\n"
   ]
  },
  {
   "cell_type": "code",
   "execution_count": 2,
   "id": "0593f7e4-187d-45ad-ae46-7939b71a58aa",
   "metadata": {},
   "outputs": [
    {
     "name": "stdout",
     "output_type": "stream",
     "text": [
      "Opady:\n",
      "        data  opady_mm   Rok  Miesiąc\n",
      "0 2012-12-01      2.54  2012       12\n",
      "1 2012-12-02      0.25  2012       12\n",
      "2 2012-12-03      0.00  2012       12\n",
      "3 2012-12-04      2.79  2012       12\n",
      "4 2012-12-05      0.00  2012       12\n",
      "\n",
      "Wiatr:\n",
      "        data  wiatr_m_s   Rok  Miesiąc\n",
      "0 2012-12-01        1.1  2012       12\n",
      "1 2012-12-02        0.7  2012       12\n",
      "2 2012-12-03        1.8  2012       12\n",
      "3 2012-12-04        0.8  2012       12\n",
      "4 2012-12-05        1.2  2012       12\n",
      "\n",
      "Temperatura:\n",
      "        data  min_temp  max_temp   Rok  Miesiąc\n",
      "0 2012-01-01       -10       2.7  2012        1\n",
      "1 2013-01-01        -6       4.2  2013        1\n",
      "2 2014-01-01        -6       0.1  2014        1\n",
      "3 2015-01-01        -3       0.9  2015        1\n",
      "4 2016-01-01       -14      -5.1  2016        1\n"
     ]
    }
   ],
   "source": [
    "import pandas as pd\n",
    "\n",
    "# Wczytanie danych z plików CSV z poprawnymi nazwami kolumn\n",
    "df_opady = pd.read_csv('opady.csv', names=['data', 'opady_mm'], header=0)\n",
    "df_wiatr = pd.read_csv('wiatr.csv', names=['data', 'wiatr_m_s'], header=0)\n",
    "df_temperatura = pd.read_csv('temperatura.csv', names=['data', 'min_temp', 'max_temp'], header=0)\n",
    "\n",
    "# Zmiana formatu daty\n",
    "for df in [df_opady, df_wiatr, df_temperatura]:\n",
    "    df['data'] = pd.to_datetime(df['data'], format='%d.%m.%Y')\n",
    "    df['Rok'] = df['data'].dt.year\n",
    "    df['Miesiąc'] = df['data'].dt.month\n",
    "\n",
    "# Sprawdzenie wczytania danych\n",
    "print(\"Opady:\")\n",
    "print(df_opady.head())\n",
    "print(\"\\nWiatr:\")\n",
    "print(df_wiatr.head())\n",
    "print(\"\\nTemperatura:\")\n",
    "print(df_temperatura.head())\n"
   ]
  },
  {
   "cell_type": "code",
   "execution_count": 3,
   "id": "8475b96b-32fb-477d-a936-ef5562c0e4ed",
   "metadata": {},
   "outputs": [
    {
     "name": "stdout",
     "output_type": "stream",
     "text": [
      "\n",
      "Średnie opady:\n",
      "    Rok  Miesiąc  opady_mm\n",
      "0  2012        1  2.458387\n",
      "1  2012        2  1.681379\n",
      "2  2012        3  0.819355\n",
      "3  2012        4  2.184667\n",
      "4  2012        5  2.941290\n",
      "\n",
      "Średni wiatr:\n",
      "    Rok  Miesiąc  wiatr_m_s\n",
      "0  2012        1   1.729032\n",
      "1  2012        2   1.613793\n",
      "2  2012        3   1.877419\n",
      "3  2012        4   1.790000\n",
      "4  2012        5   1.541935\n",
      "\n",
      "Średnia temperatura:\n",
      "    Rok  Miesiąc   min_temp   max_temp\n",
      "0  2012        1  -7.161290   0.109677\n",
      "1  2012        2 -14.103448  -4.272414\n",
      "2  2012        3  -3.806452   6.522581\n",
      "3  2012        4   1.366667  12.130000\n",
      "4  2012        5   5.870968  17.209677\n"
     ]
    }
   ],
   "source": [
    "# Obliczenie średnich wartości dla każdego miesiąca\n",
    "avg_opady = df_opady.groupby(['Rok', 'Miesiąc'])['opady_mm'].mean().reset_index()\n",
    "avg_wiatr = df_wiatr.groupby(['Rok', 'Miesiąc'])['wiatr_m_s'].mean().reset_index()\n",
    "avg_temperatura = df_temperatura.groupby(['Rok', 'Miesiąc'])[['min_temp', 'max_temp']].mean().reset_index()\n",
    "\n",
    "# Sprawdzenie wyników\n",
    "print(\"\\nŚrednie opady:\")\n",
    "print(avg_opady.head())\n",
    "print(\"\\nŚredni wiatr:\")\n",
    "print(avg_wiatr.head())\n",
    "print(\"\\nŚrednia temperatura:\")\n",
    "print(avg_temperatura.head())\n"
   ]
  },
  {
   "cell_type": "code",
   "execution_count": 4,
   "id": "8380ca0c-fd7a-4037-9f9b-456ba08193c4",
   "metadata": {},
   "outputs": [
    {
     "name": "stdout",
     "output_type": "stream",
     "text": [
      "\n",
      "Zestaw danych pogodowych:\n",
      "    Rok  Miesiąc  opady_mm  wiatr_m_s   min_temp   max_temp\n",
      "0  2012        1  2.458387   1.729032  -7.161290   0.109677\n",
      "1  2012        2  1.681379   1.613793 -14.103448  -4.272414\n",
      "2  2012        3  0.819355   1.877419  -3.806452   6.522581\n",
      "3  2012        4  2.184667   1.790000   1.366667  12.130000\n",
      "4  2012        5  2.941290   1.541935   5.870968  17.209677\n"
     ]
    }
   ],
   "source": [
    "# Łączenie danych pogodowych\n",
    "df_pogoda = avg_opady.merge(avg_wiatr, on=['Rok', 'Miesiąc']).merge(avg_temperatura, on=['Rok', 'Miesiąc'])\n",
    "\n",
    "# Sprawdzenie wyników połączenia\n",
    "print(\"\\nZestaw danych pogodowych:\")\n",
    "print(df_pogoda.head())\n"
   ]
  },
  {
   "cell_type": "code",
   "execution_count": 5,
   "id": "4c2dc15d-fba5-4255-ba55-95f6265c100f",
   "metadata": {},
   "outputs": [
    {
     "name": "stdout",
     "output_type": "stream",
     "text": [
      "  Rok, Przyczyny zdarzeń, Turystyka piesza, Rower, Skitury, Jazda na rowerze, Wspinaczka górska, Wspinaczka jaskiniowa, Kanioning górski, Paralotnia, Niepotrzebny alarm, Inny\n",
      "0  2021, upadek (np. potknięcie się),394,3,31,3,2...                                                                                                                          \n",
      "1            2021, spaść z wysokości,41,,,1,12,,,,,1                                                                                                                          \n",
      "2                     2021, zgubić się,48,,2,,3,,,,,                                                                                                                          \n",
      "3           2021, spadający kamień / lód,8,,,,3,,,,,                                                                                                                          \n",
      "4                          2021, lawina,5,,4,,1,,,,,                                                                                                                          \n"
     ]
    }
   ],
   "source": [
    "df_wypadki = pd.read_csv('wypadki.csv', sep='\\t')  # Upewnij się, że separator jest poprawny\n",
    "\n",
    "# Sprawdzenie wczytanych danych\n",
    "print(df_wypadki.head())"
   ]
  },
  {
   "cell_type": "code",
   "execution_count": 20,
   "id": "c7a536ff-5da4-4a22-bf5e-f31db7093e57",
   "metadata": {},
   "outputs": [
    {
     "name": "stdout",
     "output_type": "stream",
     "text": [
      "Index(['Rok', ' Przyczyny zdarzeń', ' Turystyka piesza', ' Rower', ' Skitury',\n",
      "       ' Jazda na rowerze', ' Wspinaczka górska', ' Wspinaczka jaskiniowa',\n",
      "       ' Kanioning górski', ' Paralotnia', ' Niepotrzebny alarm', ' Inny'],\n",
      "      dtype='object')\n"
     ]
    }
   ],
   "source": [
    "# Wyświetlenie aktualnych nazw kolumn\n",
    "print(df_wypadki.columns)\n"
   ]
  },
  {
   "cell_type": "code",
   "execution_count": 21,
   "id": "ed751627-0c94-4f3f-a287-f2473d4dc6f6",
   "metadata": {},
   "outputs": [
    {
     "name": "stdout",
     "output_type": "stream",
     "text": [
      "Index(['Rok', 'Przyczyny zdarzeń', 'Turystyka piesza', 'Rower', 'Skitury',\n",
      "       'Jazda na rowerze', 'Wspinaczka górska', 'Wspinaczka jaskiniowa',\n",
      "       'Kanioning górski', 'Paralotnia', 'Niepotrzebny alarm', 'Inny'],\n",
      "      dtype='object')\n"
     ]
    }
   ],
   "source": [
    "# Upewnij się, że nazwy kolumn są bez dodatkowych spacji\n",
    "df_wypadki.columns = df_wypadki.columns.str.strip().str.replace(',', '')  # Usunięcie przecinków\n",
    "print(df_wypadki.columns)  # Sprawdzenie wyników po zmianach\n",
    "\n",
    "# Przykładowa zmiana nazwy kolumny\n",
    "df_wypadki.rename(columns={'Rok ': 'Rok'}, inplace=True)  # Przykładowe dostosowanie\n"
   ]
  },
  {
   "cell_type": "code",
   "execution_count": 22,
   "id": "699d01a5-e6c5-4f4f-b078-26ad52238a6c",
   "metadata": {},
   "outputs": [],
   "source": [
    "if 'Rok' in df_wypadki.columns:\n",
    "    df_wypadki['Rok'] = df_wypadki['Rok'].astype(int)\n",
    "else:\n",
    "    print(\"Kolumna 'Rok' nie została znaleziona.\")\n"
   ]
  },
  {
   "cell_type": "code",
   "execution_count": 23,
   "id": "18b69137-f338-4387-8cf2-2ddb94f1f9a1",
   "metadata": {},
   "outputs": [
    {
     "name": "stdout",
     "output_type": "stream",
     "text": [
      "<class 'pandas.core.frame.DataFrame'>\n",
      "RangeIndex: 78 entries, 0 to 77\n",
      "Data columns (total 12 columns):\n",
      " #   Column                 Non-Null Count  Dtype  \n",
      "---  ------                 --------------  -----  \n",
      " 0   Rok                    78 non-null     int64  \n",
      " 1   Przyczyny zdarzeń      78 non-null     object \n",
      " 2   Turystyka piesza       76 non-null     float64\n",
      " 3   Rower                  10 non-null     float64\n",
      " 4   Skitury                37 non-null     float64\n",
      " 5   Jazda na rowerze       21 non-null     float64\n",
      " 6   Wspinaczka górska      52 non-null     float64\n",
      " 7   Wspinaczka jaskiniowa  8 non-null      float64\n",
      " 8   Kanioning górski       0 non-null      float64\n",
      " 9   Paralotnia             0 non-null      float64\n",
      " 10  Niepotrzebny alarm     7 non-null      float64\n",
      " 11  Inny                   39 non-null     float64\n",
      "dtypes: float64(10), int64(1), object(1)\n",
      "memory usage: 7.4+ KB\n",
      "None\n"
     ]
    }
   ],
   "source": [
    "# Sprawdzenie informacji o DataFrame po zmianach\n",
    "print(df_wypadki.info())\n"
   ]
  },
  {
   "cell_type": "code",
   "execution_count": null,
   "id": "dfa8c4f1-c65e-4b6f-8211-4ae897c8c080",
   "metadata": {},
   "outputs": [],
   "source": []
  },
  {
   "cell_type": "code",
   "execution_count": 18,
   "id": "90ee03d9-ecd8-4884-8027-af55477742a6",
   "metadata": {},
   "outputs": [
    {
     "name": "stdout",
     "output_type": "stream",
     "text": [
      "    Rok  Miesiąc  Średnia Min Temp  Średnia Max Temp  Średnie Opady  \\\n",
      "0  2012        1             -7.16              0.11           2.46   \n",
      "1  2012        2            -14.10             -4.27           1.68   \n",
      "2  2012        3             -3.81              6.52           0.82   \n",
      "3  2012        4              1.37             12.13           2.18   \n",
      "4  2012        5              5.87             17.21           2.94   \n",
      "\n",
      "   Średni Wiatr  \n",
      "0          1.73  \n",
      "1          1.61  \n",
      "2          1.88  \n",
      "3          1.79  \n",
      "4          1.54  \n"
     ]
    }
   ],
   "source": [
    "import pandas as pd\n",
    "\n",
    "# 1. Wczytanie danych z plików\n",
    "df_temperatura = pd.read_csv('temperatura.csv', sep=',')\n",
    "df_opady = pd.read_csv('opady.csv', sep=',')\n",
    "df_wiatr = pd.read_csv('wiatr.csv', sep=',')\n",
    "\n",
    "# 2. Przygotowanie danych\n",
    "\n",
    "# Temperatura\n",
    "df_temperatura.columns = ['Data', 'Min', 'Max']\n",
    "df_temperatura['Data'] = pd.to_datetime(df_temperatura['Data'], format='%d.%m.%Y')\n",
    "df_temperatura['Miesiąc'] = df_temperatura['Data'].dt.month\n",
    "df_temperatura['Rok'] = df_temperatura['Data'].dt.year\n",
    "\n",
    "# Opady\n",
    "df_opady.columns = ['Data', 'Opady']\n",
    "df_opady['Data'] = pd.to_datetime(df_opady['Data'], format='%d.%m.%Y')\n",
    "df_opady['Miesiąc'] = df_opady['Data'].dt.month\n",
    "df_opady['Rok'] = df_opady['Data'].dt.year\n",
    "\n",
    "# Wiatr\n",
    "df_wiatr.columns = ['Data', 'Wiatr']\n",
    "df_wiatr['Data'] = pd.to_datetime(df_wiatr['Data'], format='%d.%m.%Y')\n",
    "df_wiatr['Miesiąc'] = df_wiatr['Data'].dt.month\n",
    "df_wiatr['Rok'] = df_wiatr['Data'].dt.year\n",
    "\n",
    "# 3. Utworzenie DataFrame o pogodzie\n",
    "# Grupowanie danych miesięcznych\n",
    "df_temperatura_avg = df_temperatura.groupby(['Rok', 'Miesiąc'])[['Min', 'Max']].mean().reset_index()\n",
    "df_opady_avg = df_opady.groupby(['Rok', 'Miesiąc'])[['Opady']].mean().reset_index()\n",
    "df_wiatr_avg = df_wiatr.groupby(['Rok', 'Miesiąc'])[['Wiatr']].mean().reset_index()\n",
    "\n",
    "# Łączenie DataFrame'ów\n",
    "df_pogoda = pd.merge(df_temperatura_avg, df_opady_avg, on=['Rok', 'Miesiąc'])\n",
    "df_pogoda = pd.merge(df_pogoda, df_wiatr_avg, on=['Rok', 'Miesiąc'])\n",
    "\n",
    "# Zmiana nazw kolumn\n",
    "df_pogoda.columns = ['Rok', 'Miesiąc', 'Średnia Min Temp', 'Średnia Max Temp', 'Średnie Opady', 'Średni Wiatr']\n",
    "\n",
    "# Zaokrąglenie wartości do 2 miejsc po przecinku\n",
    "df_pogoda[['Średnia Min Temp', 'Średnia Max Temp', 'Średnie Opady', 'Średni Wiatr']] = df_pogoda[['Średnia Min Temp', 'Średnia Max Temp', 'Średnie Opady', 'Średni Wiatr']].round(2)\n",
    "\n",
    "# Zapisanie do pliku CSV\n",
    "df_pogoda.to_csv('dane_pogoda.csv', index=False)\n",
    "\n",
    "# Wyświetlenie wynikowego DataFrame'u\n",
    "print(df_pogoda.head())\n"
   ]
  },
  {
   "cell_type": "code",
   "execution_count": 9,
   "id": "bd7400d6-1776-4a78-99af-d557fa8760a3",
   "metadata": {},
   "outputs": [
    {
     "name": "stdout",
     "output_type": "stream",
     "text": [
      "    Rok  Miesiąc  Turyści\n",
      "0  2013        1    76666\n",
      "1  2013        2   101272\n",
      "2  2013        3    54651\n",
      "3  2013        4    95736\n",
      "4  2013        5   212831\n"
     ]
    }
   ],
   "source": [
    "import pandas as pd\n",
    "\n",
    "# Wczytanie danych\n",
    "df_turysci = pd.read_csv('Turysci.csv')\n",
    "\n",
    "# Słownik mapujący miesiące na numery\n",
    "month_map = {\n",
    "    'styczeń': 1,\n",
    "    'luty': 2,\n",
    "    'marzec': 3,\n",
    "    'kwiecień': 4,\n",
    "    'maj': 5,\n",
    "    'czerwiec': 6,\n",
    "    'lipiec': 7,\n",
    "    'sierpień': 8,\n",
    "    'wrzesień': 9,\n",
    "    'październik': 10,\n",
    "    'listopad': 11,\n",
    "    'grudzień': 12\n",
    "}\n",
    "\n",
    "# Zastosowanie mapowania do kolumny 'Miesiąc'\n",
    "df_turysci['Miesiąc'] = df_turysci['Miesiąc'].map(month_map)\n",
    "\n",
    "# Sprawdzenie nowego DataFrame\n",
    "print(df_turysci.head())\n"
   ]
  },
  {
   "cell_type": "code",
   "execution_count": 10,
   "id": "4ec5c5de-028c-49c3-bcb7-98cdb09efab0",
   "metadata": {},
   "outputs": [],
   "source": [
    "# Konwersja kolumn na odpowiednie typy\n",
    "df_turysci['Rok'] = df_turysci['Rok'].astype(int)\n",
    "df_turysci['Miesiąc'] = df_turysci['Miesiąc'].astype(int)\n"
   ]
  },
  {
   "cell_type": "code",
   "execution_count": 12,
   "id": "0db06786-cc24-4f2c-92db-71e713bdc894",
   "metadata": {},
   "outputs": [],
   "source": [
    "# Wczytanie danych pogodowych\n",
    "df_pogoda = pd.read_csv('dane_pogoda.csv')\n",
    "\n",
    "# Konwersja kolumn na odpowiednie typy\n",
    "df_pogoda['Rok'] = df_pogoda['Rok'].astype(int)\n",
    "df_pogoda['Miesiąc'] = df_pogoda['Miesiąc'].astype(int)\n"
   ]
  },
  {
   "cell_type": "code",
   "execution_count": 13,
   "id": "4c0897a2-1854-48c2-8225-6855740514db",
   "metadata": {},
   "outputs": [
    {
     "name": "stdout",
     "output_type": "stream",
     "text": [
      "    Rok  Miesiąc  Turyści  Średnia Min Temp  Średnia Max Temp  Średnie Opady  \\\n",
      "0  2013        1    76666             -7.81             -0.74           2.11   \n",
      "1  2013        2   101272             -5.96             -0.75           1.75   \n",
      "2  2013        3    54651             -7.03              1.66           3.20   \n",
      "3  2013        4    95736              1.07             11.93           2.76   \n",
      "4  2013        5   212831              6.32             16.14           4.72   \n",
      "\n",
      "   Średni Wiatr  \n",
      "0          1.57  \n",
      "1          1.40  \n",
      "2          1.70  \n",
      "3          1.85  \n",
      "4          1.65  \n"
     ]
    }
   ],
   "source": [
    "# Łączenie DataFrame'ów na podstawie roku i miesiąca\n",
    "df_merged = pd.merge(df_turysci, df_pogoda, on=['Rok', 'Miesiąc'], how='inner')\n",
    "\n",
    "# Wyświetlenie wynikowego DataFrame\n",
    "print(df_merged.head())\n"
   ]
  },
  {
   "cell_type": "code",
   "execution_count": 16,
   "id": "e2d999a1-d164-4cb2-ab3f-418b8fbb0986",
   "metadata": {},
   "outputs": [
    {
     "name": "stdout",
     "output_type": "stream",
     "text": [
      "File saved successfully to C:\\path\\to\\tree\\MGR\\Turysci_Pogoda.csv\n"
     ]
    }
   ],
   "source": [
    "import os\n",
    "\n",
    "# Define your directory and ensure it exists\n",
    "directory = r'C:\\path\\to\\tree\\MGR'  # Update with your actual path\n",
    "\n",
    "# Create the directory if it doesn't exist\n",
    "if not os.path.exists(directory):\n",
    "    os.makedirs(directory)\n",
    "\n",
    "# Specify the output path\n",
    "output_path = os.path.join(directory, 'Turysci_Pogoda.csv')\n",
    "\n",
    "# Save the DataFrame to a CSV file\n",
    "df_merged.to_csv(output_path, index=False)\n",
    "\n",
    "print(f\"File saved successfully to {output_path}\")\n"
   ]
  },
  {
   "cell_type": "code",
   "execution_count": null,
   "id": "a6512a85-5f2d-4417-af38-5b8251bc48fc",
   "metadata": {},
   "outputs": [],
   "source": []
  }
 ],
 "metadata": {
  "kernelspec": {
   "display_name": "Python 3 (ipykernel)",
   "language": "python",
   "name": "python3"
  },
  "language_info": {
   "codemirror_mode": {
    "name": "ipython",
    "version": 3
   },
   "file_extension": ".py",
   "mimetype": "text/x-python",
   "name": "python",
   "nbconvert_exporter": "python",
   "pygments_lexer": "ipython3",
   "version": "3.13.0"
  }
 },
 "nbformat": 4,
 "nbformat_minor": 5
}
